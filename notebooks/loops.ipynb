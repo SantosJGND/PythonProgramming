{
 "cells": [
  {
   "cell_type": "markdown",
   "metadata": {},
   "source": [
    "\n",
    "<div style=\"font-size:32px; font-weight:bold;\">Loops</div>\n",
    "<br>\n",
    "<div style=\"font-size:24px; font-weight:bold;\">The <code>for</code> loop </div>\n",
    "\n",
    "A for loop is used for iterating over a sequence (that is either a list, a tuple, a dictionary, a set, or a string).\n",
    "\n",
    "### Exercise 1\n",
    "\n",
    "Write a program that prints the numbers from 1 to 10.\n",
    "\n",
    "### Exercise 2\n",
    "\n",
    "given the list of names in the following list, write a program that prints the length of each name.\n",
    "\n",
    "```python\n",
    "names = ['John', 'Doe', 'Jane', 'Smith', 'Tom']\n",
    "```\n",
    "\n",
    "### Exercise 3\n",
    "\n",
    "Using the the same list of names, write a program that breaks the loop when the name is 'Smith'. print the name and the length of the name.\n",
    "\n"
   ]
  },
  {
   "cell_type": "code",
   "execution_count": null,
   "metadata": {},
   "outputs": [],
   "source": [
    "# your code here"
   ]
  },
  {
   "cell_type": "markdown",
   "metadata": {},
   "source": [
    "<div style=\"font-size:24px; font-weight:bold;\"> <code>enumerate()</code> </div>\n",
    "\n",
    "The `enumerate()` function adds a counter to an iterable.\n",
    "\n",
    "### Exercise 4\n",
    "\n",
    "Using the enumerate function, determine the index of the name 'Smith' in the list of names.\n",
    "\n",
    "### Exercise 5 \n",
    "\n",
    "Using the enumerate function, determine which name is at index 2.\n",
    "\n"
   ]
  },
  {
   "cell_type": "code",
   "execution_count": null,
   "metadata": {},
   "outputs": [],
   "source": [
    "# your code here"
   ]
  },
  {
   "cell_type": "markdown",
   "metadata": {},
   "source": [
    "<div style=\"font-size:24px; font-weight:bold;\"> <code>range()</code> </div>\n",
    "\n",
    "The `range()` function returns a sequence of numbers, starting from 0 by default, and increments by 1 (by default), and stops before a specified number.\n",
    "\n",
    "### Exercise 6\n",
    "\n",
    "Write a program that prints the numbers from 1 to 10, but for multiples of three print \"Fizz\" instead of the number, and for the multiples of five print \"Buzz\". For numbers which are multiples of both three and five print \"FizzBuzz\".\n",
    "\n"
   ]
  },
  {
   "cell_type": "code",
   "execution_count": null,
   "metadata": {},
   "outputs": [],
   "source": [
    "# your code here"
   ]
  },
  {
   "cell_type": "markdown",
   "metadata": {},
   "source": [
    "<div style=\"font-size:24px; font-weight:bold;\">The <code>while</code> loop </div>\n",
    "\n",
    "With the while loop we can execute a set of statements as long as a condition is true.\n",
    "\n",
    "### Exercise 7\n",
    "\n",
    "Write a program that prints the numbers from 1 to 10 using a while loop.\n",
    "\n",
    "### Exercise 8\n",
    "\n",
    "for this exercise we are introducing the `random` module. The `random` module provides functions that generate random numbers.\n",
    "\n",
    "The `randint()` function returns a random number between the specified range, e.g.\n",
    "\n",
    "```python\n",
    "import random\n",
    "\n",
    "print(random.randint(1, 10))\n",
    "```\n",
    "\n",
    "Write a program that generates random numbers between 1 and 10 until the number 5 is generated. Print the number of iterations it took to generate the number 5.\n"
   ]
  },
  {
   "cell_type": "code",
   "execution_count": 3,
   "metadata": {},
   "outputs": [],
   "source": [
    "# your code here."
   ]
  }
 ],
 "metadata": {
  "kernelspec": {
   "display_name": ".venv",
   "language": "python",
   "name": "python3"
  },
  "language_info": {
   "codemirror_mode": {
    "name": "ipython",
    "version": 3
   },
   "file_extension": ".py",
   "mimetype": "text/x-python",
   "name": "python",
   "nbconvert_exporter": "python",
   "pygments_lexer": "ipython3",
   "version": "3.10.11"
  }
 },
 "nbformat": 4,
 "nbformat_minor": 2
}
