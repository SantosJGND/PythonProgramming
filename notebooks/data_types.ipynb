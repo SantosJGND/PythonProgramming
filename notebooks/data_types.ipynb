{
 "cells": [
  {
   "cell_type": "markdown",
   "metadata": {},
   "source": [
    "## Basic Python Types\n",
    "\n",
    "Python is a dynamically typed language, which means that you don't have to declare the type of a variable when you create one. Python will automatically infer the type of the variable based on the value you assign to it. Here are some of the basic types in Python:\n",
    "\n",
    "### Integers\n",
    "\n",
    "real numbers, positive or negative, without decimals.\n",
    "\n",
    "```python\n",
    "a = 1\n",
    "b = 2\n",
    "```\n",
    "\n",
    "### Floats\n",
    "\n",
    "real numbers, positive or negative, with decimals.\n",
    "\n",
    "```python\n",
    "c = 1.0\n",
    "d = 2.0\n",
    "e = 1.509\n",
    "f = 2 / 3 # This will be a float. Fractions are floats in Python.\n",
    "```\n",
    "\n",
    "### Strings\n",
    "\n",
    "a sequence of characters.\n",
    "\n",
    "```python\n",
    "g = \"Hello\"\n",
    "h = 'World'\n",
    "```\n",
    "\n",
    "### Booleans\n",
    "\n",
    "a binary value, either `True` or `False`.\n",
    "\n",
    "```python\n",
    "i = True\n",
    "j = False\n",
    "```\n",
    "\n",
    "## Type Conversion - Type Casting\n",
    "\n",
    "You can convert a variable from one type to another using the built-in functions `int()`, `float()`, `str()`, and `bool()`.\n",
    "\n",
    "```python\n",
    "k = 1\n",
    "l = float(k) # l will be 1.0\n",
    "m = str(k) # m will be \"1\"\n",
    "\n",
    "n = 1.0\n",
    "o = int(n) # o will be 1\n",
    "p = str(n) # p will be \"1.0\"\n",
    "```\n",
    "\n",
    "Note that you can't convert a string to an integer if the string doesn't represent an integer.\n",
    "\n",
    "```python\n",
    "q = \"Hello\"\n",
    "r = int(q) # This will raise a ValueError\n",
    "```\n",
    "\n",
    "\n",
    "## Implicit Type Conversion\n",
    "\n",
    "When you perform operations between different types, Python will automatically attempt to convert the operands to the same type. This is called implicit type conversion.\n",
    "\n",
    "```python\n",
    "\n",
    "s = 1 + 2.0 # s will be 3.0\n",
    "t = 1 + True # t will be 2\n",
    "```\n",
    "\n",
    "However, there are some cases where implicit type conversion won't work.\n",
    "\n",
    "```python\n",
    "u = \"Hello\" + 1 # This will raise a TypeError\n",
    "```\n",
    "\n",
    "In this case, you'll have to convert the operands to the same type manually.\n",
    "\n",
    "```python\n",
    "v = \"Hello\" + str(1) # v will be \"Hello1\"\n",
    "```\n",
    "\n",
    "**Attention** Implicit typing can be a problem even when it works. Run the following code, think about the semantics of the operation. \n",
    "\n",
    "```python\n",
    "\n",
    "# what happens if we subtract or add a boolean to an integer?\n",
    "print(1 + True)\n",
    "```"
   ]
  },
  {
   "cell_type": "code",
   "execution_count": 1,
   "metadata": {},
   "outputs": [],
   "source": [
    "# your code here"
   ]
  },
  {
   "cell_type": "markdown",
   "metadata": {},
   "source": [
    "\n",
    "\n",
    "## Type Checking\n",
    "\n",
    "You can check the type of a variable using the built-in function `type()`.\n",
    "\n",
    "\n",
    "## Exercise"
   ]
  },
  {
   "cell_type": "code",
   "execution_count": 2,
   "metadata": {},
   "outputs": [
    {
     "name": "stdout",
     "output_type": "stream",
     "text": [
      "<class 'int'>\n"
     ]
    }
   ],
   "source": [
    "## Exercise 1: Variables and Types\n",
    "# Declare a variable of each type and print the type of each variable.\n",
    "\n",
    "# Integers\n",
    "a = 1\n",
    "print(type(a))\n",
    "\n",
    "# Floats\n",
    "\n",
    "# Strings\n",
    "\n",
    "# Booleans"
   ]
  },
  {
   "cell_type": "code",
   "execution_count": 3,
   "metadata": {},
   "outputs": [],
   "source": [
    "## Exercise 2: Casting\n",
    "# Convert a boolean to an integer. Print the type of the original variable and the converted variable.\n",
    "\n",
    "my_boolean = True\n"
   ]
  },
  {
   "cell_type": "markdown",
   "metadata": {},
   "source": [
    "<h4>Converting from strings to integers or floats</h4>\n",
    "<p>Sometimes, we can have a string that contains a number within it. If this is the case, we can cast that string that represents a number into an integer using <code>int()</code>:</p>\n"
   ]
  },
  {
   "cell_type": "code",
   "execution_count": 4,
   "metadata": {},
   "outputs": [
    {
     "data": {
      "text/plain": [
       "1"
      ]
     },
     "execution_count": 4,
     "metadata": {},
     "output_type": "execute_result"
    }
   ],
   "source": [
    "# Convert a string into an integer\n",
    "\n",
    "int('1')"
   ]
  },
  {
   "cell_type": "markdown",
   "metadata": {},
   "source": [
    "<p>But if you try to do so with a string that is not a perfect match for a number, you'll get an error. Try the following:</p>\n"
   ]
  },
  {
   "cell_type": "code",
   "execution_count": null,
   "metadata": {},
   "outputs": [],
   "source": [
    "# Convert a string into an integer with error\n",
    "\n",
    "int('1 or 2 people')"
   ]
  },
  {
   "cell_type": "markdown",
   "metadata": {},
   "source": [
    "\n",
    "<div class=\"alert alert-success alertsuccess\" style=\"margin-top: 20px\">\n",
    "    [Tip:] Note that strings can be represented with single quotes (<code>'1.2'</code>) or double quotes (<code>\"1.2\"</code>), but you can't mix both (e.g., <code>\"1.2'</code>).\n",
    "</div>\n"
   ]
  },
  {
   "cell_type": "markdown",
   "metadata": {},
   "source": [
    "### String operations\n",
    "\n",
    "Anything contained between two quotes (single or double) is a string. You can concatenate strings using the `+` operator.\n",
    "\n",
    "```python\n",
    "a = \"Hello\"\n",
    "b = \"World\"\n",
    "c = a + b # c will be \"HelloWorld\"\n",
    "```\n",
    "\n",
    "You can also multiply a string by an integer to repeat it.\n",
    "\n",
    "```python\n",
    "d = \"Hello\"\n",
    "e = d * 3 # e will be \"HelloHelloHello\"\n",
    "```\n",
    "\n",
    "### String formatting\n",
    "\n",
    "If you prefix a string with `f`, you can use curly braces `{}` to insert variables into the string.\n",
    "\n",
    "```python\n",
    "name = \"Alice\"\n",
    "age = 25\n",
    "\n",
    "f = f\"My name is {name} and I am {age} years old\" # f will be \"My name is Alice and I am 25 years old\"\n",
    "```\n",
    "\n",
    "An older way to format strings is to use the `%` operator.\n",
    "\n",
    "```python\n",
    "name = \"Alice\"\n",
    "age = 25\n",
    "\n",
    "g = \"My name is %s and I am %d years old\" % (name, age) # g will be \"My name is Alice and I am 25 years old\"\n",
    "```\n",
    "and the `format()` method.\n",
    "\n",
    "```python\n",
    "\n",
    "name = \"Alice\"\n",
    "age = 25\n",
    "f = \"My name is {} and I am {} years old\".format(name, age) # f will be \"My name\n",
    "\n",
    "```\n",
    "\n",
    "You might still come across these methods in older codebases, but the `f`-string method is the most modern and recommended way to format strings in Python.\n",
    "\n",
    "\n",
    "### String methods\n",
    "\n",
    "Strings have many built-in methods that you can use to manipulate them. Here are some of the most common ones:\n",
    "\n",
    "```python\n",
    "\n",
    "h = \"Hello, World\"\n",
    "\n",
    "# Returns the length of the string\n",
    "length = len(h) # length will be 12\n",
    "\n",
    "# Returns the index of the first occurrence of a substring\n",
    "index = h.index(\"World\") # index will be 7\n",
    "\n",
    "# Returns the number of occurrences of a substring\n",
    "count = h.count(\"l\") # count will be 3\n",
    "\n",
    "# Replaces a substring with another\n",
    "replaced = h.replace(\"World\", \"Alice\") # replaced will be \"Hello, Alice\"\n",
    "\n",
    "# Converts the string to uppercase\n",
    "upper = h.upper() # upper will be \"HELLO, WORLD\"\n",
    "\n",
    "# Converts the string to lowercase\n",
    "lower = h.lower() # lower will be \"hello, world\"\n",
    "\n",
    "# Removes leading and trailing whitespace\n",
    "stripped = h.strip() # stripped will be \"Hello, World\"\n",
    "```\n",
    "\n",
    "### String indexing\n",
    "\n",
    "You can access individual characters in a string using square brackets `[]`. Strings are zero-indexed, which means that the first character is at index 0.\n",
    "\n",
    "```python\n",
    "\n",
    "i = \"Hello, World\"\n",
    "\n",
    "first = i[0] # first will be \"H\"\n",
    "second = i[1] # second will be \"e\"\n",
    "```\n",
    "\n",
    "## String Exercises\n",
    "\n",
    "### Exercise 1\n",
    "\n",
    "Given the string `s = \"Hello, World\"`, extract the substring `\"Hello\"`.\n",
    "\n",
    "### Exercise 2\n",
    "\n",
    "Given the string `s = \"Hello, World\"`, extract the substring `\"World\"`.\n",
    "\n",
    "### Exercise 3\n",
    "\n",
    "How many times does the letter `l` appear in the string `s = \"Hello, World\"`?\n",
    "\n",
    "### Exercise 4\n",
    "\n",
    "Replace the substring `\"World\"` with `\"Alice\"` in the string `s = \"Hello, World\"`.\n",
    "\n",
    "### Exercise 5\n",
    "\n",
    "Convert the string `s = \"Hello, World\"` to uppercase.\n"
   ]
  },
  {
   "cell_type": "code",
   "execution_count": 10,
   "metadata": {},
   "outputs": [
    {
     "name": "stdout",
     "output_type": "stream",
     "text": [
      "myvar is not an integer\n",
      "myvar is now an integer\n"
     ]
    }
   ],
   "source": [
    "# your code here.\n",
    "\n",
    "import math\n",
    "\n",
    "def square_root(x):\n",
    "    return math.sqrt(x)\n"
   ]
  }
 ],
 "metadata": {
  "kernelspec": {
   "display_name": ".venv",
   "language": "python",
   "name": "python3"
  },
  "language_info": {
   "codemirror_mode": {
    "name": "ipython",
    "version": 3
   },
   "file_extension": ".py",
   "mimetype": "text/x-python",
   "name": "python",
   "nbconvert_exporter": "python",
   "pygments_lexer": "ipython3",
   "version": "3.10.11"
  }
 },
 "nbformat": 4,
 "nbformat_minor": 2
}
