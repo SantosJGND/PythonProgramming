{
 "cells": [
  {
   "cell_type": "markdown",
   "metadata": {},
   "source": [
    "## Testing the Binary Search Algorithm\n",
    "\n",
    "The following is the coded for the Binary Search algorithm. The binary search algorithm is a useful algorithm to find the index of an element in a **sorted array of integers**. \n",
    "\n",
    "- https://www.geeksforgeeks.org/python-program-for-binary-search/\n",
    "\n",
    "```python\n",
    "def binary_search(arr, target):\n",
    "    left, right = 0, len(arr) - 1\n",
    "    while left <= right:\n",
    "        mid = (left + right) // 2\n",
    "        if arr[mid] == target:\n",
    "            return mid\n",
    "        elif arr[mid] < target:\n",
    "            left = mid + 1\n",
    "        else:\n",
    "            right = mid - 1\n",
    "    return -1    \n",
    "```\n",
    "\n",
    " \n",
    "\n",
    "Write two tests for this function. \n",
    "\n",
    "- use `assert`\n",
    "- wrap the tests in a `test_*` function.\n",
    "    \n",
    "    **Note** - the `*` means any name."
   ]
  },
  {
   "cell_type": "code",
   "execution_count": null,
   "metadata": {},
   "outputs": [],
   "source": [
    "# your code here\n"
   ]
  }
 ],
 "metadata": {
  "kernelspec": {
   "display_name": ".venv",
   "language": "python",
   "name": "python3"
  },
  "language_info": {
   "name": "python",
   "version": "3.10.11"
  }
 },
 "nbformat": 4,
 "nbformat_minor": 2
}
