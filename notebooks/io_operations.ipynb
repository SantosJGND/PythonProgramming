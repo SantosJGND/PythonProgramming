{
 "cells": [
  {
   "cell_type": "markdown",
   "metadata": {},
   "source": [
    "## I/O operations in Python\n",
    "\n",
    "### Reading from a file in Python\n",
    "\n",
    "To read from a file in Python, you can use the `open()` function. The `open()` function returns a file object, which can be used to read data from the file. \n",
    "\n",
    "The `open()` function takes two arguments:\n",
    "- The name of the file to open, and the mode in which to open the file. \n",
    "- The mode, \n",
    "\n",
    "| Mode | Description |\n",
    "| --- | --- |\n",
    "| 'r' | Open a file for reading. (default) |\n",
    "| 'w' | Open a file for writing. Creates a new file if it does not exist or truncates the file if it exists. |\n",
    "| 'x' | Open a file for exclusive creation. If the file already exists, the operation will fail. |\n",
    "| 'a' | Open for appending at the end of the file without truncating it. Creates a new file if it does not exist. |\n",
    "| 't' | Open in text mode. (default) |\n",
    "| 'b' | Open in binary mode. |\n",
    "| '+' | Open a file for updating (reading and writing) |\n",
    "\n",
    "## Exercise\n",
    "\n",
    "You are given a file named `input.txt`. You need to read the contents of the file and print them to the console.\n",
    "\n",
    "## Sample Input\n",
    "\n",
    "The file `input.txt` contains the following text:\n",
    "\n",
    "```\n",
    "Hello, World!\n",
    "```\n",
    "\n",
    "## Sample Output\n",
    "\n",
    "```\n",
    "Hello, World!\n",
    "```\n",
    "\n",
    "\n"
   ]
  },
  {
   "cell_type": "markdown",
   "metadata": {},
   "source": [
    "## Exercise \n",
    "\n",
    "You are given a file named `online reviews.txt`. This file contains one review per line, strucutred as follows: <name> - <date> - <review>.\n",
    "\n",
    "One of the reviewers found the product to be \"horrible\". You need to find the name of the reviewer who wrote this review.\n",
    "\n"
   ]
  },
  {
   "cell_type": "code",
   "execution_count": 3,
   "metadata": {},
   "outputs": [
    {
     "ename": "",
     "evalue": "",
     "output_type": "error",
     "traceback": [
      "\u001b[1;31mThe Kernel crashed while executing code in the current cell or a previous cell. \n",
      "\u001b[1;31mPlease review the code in the cell(s) to identify a possible cause of the failure. \n",
      "\u001b[1;31mClick <a href='https://aka.ms/vscodeJupyterKernelCrash'>here</a> for more info. \n",
      "\u001b[1;31mView Jupyter <a href='command:jupyter.viewOutput'>log</a> for further details."
     ]
    }
   ],
   "source": [
    "# your code here"
   ]
  },
  {
   "cell_type": "markdown",
   "metadata": {},
   "source": [
    "## Exercise \n",
    "\n",
    "How many reviwers gave a rating of 5 stars to the product?"
   ]
  },
  {
   "cell_type": "code",
   "execution_count": null,
   "metadata": {},
   "outputs": [],
   "source": [
    "# your code here"
   ]
  }
 ],
 "metadata": {
  "kernelspec": {
   "display_name": ".venv",
   "language": "python",
   "name": "python3"
  },
  "language_info": {
   "codemirror_mode": {
    "name": "ipython",
    "version": 3
   },
   "file_extension": ".py",
   "mimetype": "text/x-python",
   "name": "python",
   "nbconvert_exporter": "python",
   "pygments_lexer": "ipython3",
   "version": "3.10.11"
  }
 },
 "nbformat": 4,
 "nbformat_minor": 2
}
