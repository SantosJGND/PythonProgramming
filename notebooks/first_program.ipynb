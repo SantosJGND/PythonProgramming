{
 "cells": [
  {
   "cell_type": "markdown",
   "metadata": {},
   "source": [
    "## Your first python program\n",
    "\n",
    "This is a simple program that prints \"Hello, World!\" to the console."
   ]
  },
  {
   "cell_type": "markdown",
   "metadata": {},
   "source": [
    "\n",
    "<div class=\"alert alert-success alertsuccess\" style=\"margin-top: 20px\">\n",
    "[Tip]: To execute the Python code in the code cell below, click on the cell to select it and press <code>Shift</code> + <code>Enter</code>.\n",
    "</div>\n"
   ]
  },
  {
   "cell_type": "code",
   "execution_count": null,
   "metadata": {},
   "outputs": [],
   "source": [
    "# your first python \n",
    "\n",
    "print(\"Hello, World!\")"
   ]
  },
  {
   "cell_type": "markdown",
   "metadata": {},
   "source": [
    "Congrats on running your first Python program!\n",
    "\n",
    "### Writing Comments in python\n",
    "Comments are generally used to explain what the code is doing. Here's an example:\n",
    "\n",
    "In Python, comments are created by putting a hash mark `#` before the comment text. Anything after the `#` is ignored by the Python interpreter.\n",
    "\n",
    "```python\n",
    "\n",
    "# This is a comment\n",
    "# This is another comment\n",
    "\n",
    "my_name = \"John Doe\"  # This is also a comment\n",
    "\n",
    "```\n",
    "\n",
    "### Errors in Python\n",
    "\n",
    "When writing code, it is common to encounter errors. For example, if you spell `print` as `frint`, you will get an error message.\n",
    "\n",
    "Let's try it:\n"
   ]
  },
  {
   "cell_type": "code",
   "execution_count": null,
   "metadata": {},
   "outputs": [],
   "source": [
    "# Print string as error message\n",
    "\n",
    "frint(\"Hello, Python!\")"
   ]
  },
  {
   "cell_type": "markdown",
   "metadata": {},
   "source": [
    "\n",
    "### Raising an error\n",
    "\n",
    "When encountering an error, the python program will stop, and output an error message. This is called \"raising an error\". The message contains:\n",
    "\n",
    "- The type of error (e.g., `NameError`, `TypeError`).\n",
    "- Additional information (e.g., the error message).\n",
    "- The line of code and column that caused the error.\n",
    "\n",
    "\n",
    "### Exercise:\n",
    "\n",
    "Copy paste the code below in the next cell and run it. Find the error and correct it.\n",
    "\n",
    "\n",
    "```python\n",
    "\n",
    "my_first_sentence = \"Hello, World!\"\n",
    "\n",
    "print(my_first_sentance)\n",
    "\n",
    "```\n"
   ]
  },
  {
   "cell_type": "code",
   "execution_count": 2,
   "metadata": {},
   "outputs": [],
   "source": [
    "## paste code here"
   ]
  },
  {
   "cell_type": "markdown",
   "metadata": {},
   "source": [
    "### Common Syntax Errors\n",
    "\n",
    "- Misspellings\n",
    "\n",
    "- Incorrect indentations\n",
    "\n",
    "- Missing or incorrect key characters:\n",
    "\n",
    "- Bracket types - ( curved ), [ square ], { curly }\n",
    "\n",
    "- Quote types - \"straight-double\" or 'straight-single', “curly-double” or ‘curly-single’\n",
    "\n",
    "- Missing block introduction characters, like colons - :\n",
    "\n",
    "- Data type mismatches\n",
    "\n",
    "- Using the wrong case (uppercase/lowercase) - Python is a case-sensitive language \n",
    "\n",
    "### Common semantic errors:\n",
    "\n",
    "- The code workds, but does not produce the expected output\n",
    "\n",
    "- Poor logic structures in the design of the code\n",
    "\n",
    "\n"
   ]
  }
 ],
 "metadata": {
  "kernelspec": {
   "display_name": ".venv",
   "language": "python",
   "name": "python3"
  },
  "language_info": {
   "codemirror_mode": {
    "name": "ipython",
    "version": 3
   },
   "file_extension": ".py",
   "mimetype": "text/x-python",
   "name": "python",
   "nbconvert_exporter": "python",
   "pygments_lexer": "ipython3",
   "version": "3.10.11"
  }
 },
 "nbformat": 4,
 "nbformat_minor": 2
}
