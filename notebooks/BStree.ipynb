{
 "cells": [
  {
   "cell_type": "markdown",
   "metadata": {},
   "source": [
    "### BSTree without classes\n",
    "\n",
    "This is a simple implementation of a binary search tree without using classes, using dictionaries instead. The tree is represented as a dictionary with keys 'value', 'left' and 'right'. The tree is constructed by inserting elements in the correct position.\n",
    "\n",
    "\n",
    "```python\n",
    "\n",
    "def insert(tree, value):\n",
    "    if tree == {}:\n",
    "        tree['value'] = value\n",
    "        tree['left'] = {}\n",
    "        tree['right'] = {}\n",
    "    elif value < tree['value']:\n",
    "        insert(tree['left'], value)\n",
    "    elif value > tree['value']:\n",
    "        insert(tree['right'], value)\n",
    "\n",
    "def inorder(tree):\n",
    "    if tree == {}:\n",
    "        return []\n",
    "    return inorder(tree['left']) + [tree['value']] + inorder(tree['right'])\n",
    "\n",
    "def test():\n",
    "    tree = {}\n",
    "    for value in [5, 3, 8, 2, 4, 7, 9]:\n",
    "        insert(tree, value)\n",
    "    assert inorder(tree) == [2, 3, 4, 5, 7, 8, 9]\n",
    "\n",
    "    print('All tests passed')\n",
    "\n",
    "test()\n",
    "\n",
    "```"
   ]
  },
  {
   "cell_type": "code",
   "execution_count": 1,
   "metadata": {},
   "outputs": [
    {
     "name": "stdout",
     "output_type": "stream",
     "text": [
      "All tests passed\n",
      "테스트 통과!\n"
     ]
    }
   ],
   "source": [
    "\n",
    "def insert(tree, value):\n",
    "    if tree == {}:\n",
    "        tree['value'] = value\n",
    "        tree['left'] = {}\n",
    "        tree['right'] = {}\n",
    "    elif value < tree['value']:\n",
    "        insert(tree['left'], value)\n",
    "    elif value > tree['value']:\n",
    "        insert(tree['right'], value)\n",
    "\n",
    "def inorder(tree):\n",
    "    if tree == {}:\n",
    "        return []\n",
    "    return inorder(tree['left']) + [tree['value']] + inorder(tree['right'])\n",
    "\n",
    "def test():\n",
    "    tree = {}\n",
    "    for value in [5, 3, 8, 2, 4, 7, 9]:\n",
    "        insert(tree, value)\n",
    "    assert inorder(tree) == [2, 3, 4, 5, 7, 8, 9]\n",
    "\n",
    "    print('All tests passed')\n",
    "\n",
    "\n",
    "test()"
   ]
  },
  {
   "cell_type": "markdown",
   "metadata": {},
   "source": [
    "## Binary search \n",
    "\n",
    "The binary search algorithm finds the position of a target value within a sorted array. It compares the target value to the middle element of the array. If they are not equal, the half of the array where the target cannot be is eliminated and the search continues on the remaining half, again taking the middle element to compare to the target value, and repeating this until the target value is found or the remaining array is empty.\n",
    "\n",
    "\n"
   ]
  },
  {
   "cell_type": "code",
   "execution_count": 2,
   "metadata": {},
   "outputs": [
    {
     "name": "stdout",
     "output_type": "stream",
     "text": [
      "All tests passed\n"
     ]
    }
   ],
   "source": [
    "def binary_search(arr, target):\n",
    "    left, right = 0, len(arr) - 1\n",
    "    while left <= right:\n",
    "        mid = (left + right) // 2\n",
    "        if arr[mid] == target:\n",
    "            return mid\n",
    "        elif arr[mid] < target:\n",
    "            left = mid + 1\n",
    "        else:\n",
    "            right = mid - 1\n",
    "    return -1\n",
    "\n",
    "def test():\n",
    "    \n",
    "    arr = [2, 3, 4, 5, 7, 8, 9]\n",
    "    assert binary_search(arr, 4) == 2\n",
    "    assert binary_search(arr, 6) == -1\n",
    "\n",
    "    arr = []\n",
    "    assert binary_search(arr, 2) == -1\n",
    "\n",
    "    print('All tests passed')\n",
    "\n",
    "test()"
   ]
  }
 ],
 "metadata": {
  "kernelspec": {
   "display_name": ".venv",
   "language": "python",
   "name": "python3"
  },
  "language_info": {
   "codemirror_mode": {
    "name": "ipython",
    "version": 3
   },
   "file_extension": ".py",
   "mimetype": "text/x-python",
   "name": "python",
   "nbconvert_exporter": "python",
   "pygments_lexer": "ipython3",
   "version": "3.10.11"
  }
 },
 "nbformat": 4,
 "nbformat_minor": 2
}
