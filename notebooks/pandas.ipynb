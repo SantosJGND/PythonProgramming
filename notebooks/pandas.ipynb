{
 "cells": [
  {
   "cell_type": "markdown",
   "metadata": {},
   "source": [
    "## Pandas Exercises\n",
    "\n",
    "### Creating a pandas DataFrame\n",
    "\n",
    "You can create a DataFrame from a dictionary or a list of lists. \n",
    "\n"
   ]
  },
  {
   "cell_type": "code",
   "execution_count": 1,
   "metadata": {},
   "outputs": [
    {
     "name": "stdout",
     "output_type": "stream",
     "text": [
      "   Index     Name  Idade  Nota          Cidade\n",
      "0     10    Pedro     34    15       Sao Paulo\n",
      "1     11    Maria     59    12       Sao Paulo\n",
      "2     12  Janaina     68    18  Rio de Janeiro\n",
      "3     13     Wong     89    17        Brasilia\n",
      "4     14  Roberto     98    19        Salvador\n",
      "5     15    Marco     61    14        Curitiba\n",
      "6     16    Paula     44    16  Belo Horizonte\n"
     ]
    }
   ],
   "source": [
    "import pandas as pd\n",
    "\n",
    "data = {\n",
    "    \"Index\": [10, 11, 12, 13, 14, 15, 16],\n",
    "    \"Name\": [\"Pedro\", \"Maria\", \"Janaina\", \"Wong\", \"Roberto\", \"Marco\", \"Paula\"],\n",
    "    \"Idade\": [34, 59, 68, 89, 98, 61, 44],\n",
    "    \"Nota\": [15, 12, 18, 17, 19, 14, 16],\n",
    "    \"Cidade\": [\"Sao Paulo\", \"Sao Paulo\", \"Rio de Janeiro\", \"Brasilia\", \"Salvador\", \"Curitiba\", \"Belo Horizonte\"]\n",
    "}\n",
    "\n",
    "df = pd.DataFrame(data)\n",
    "print(df)"
   ]
  },
  {
   "cell_type": "markdown",
   "metadata": {},
   "source": [
    "Alternatively, you can create a DataFrame from a list of dictionaries. "
   ]
  },
  {
   "cell_type": "code",
   "execution_count": 2,
   "metadata": {},
   "outputs": [
    {
     "name": "stdout",
     "output_type": "stream",
     "text": [
      "   Index     Name  Idade  Nota          Cidade\n",
      "0     10    Pedro     34    15       São Paulo\n",
      "1     11    Maria     59    12  Rio de Janeiro\n",
      "2     12  Janaina     68    18  Belo Horizonte\n",
      "3     13     Wong     89    17        Curitiba\n",
      "4     14  Roberto     98    19    Porto Alegre\n",
      "5     15    Marco     61    14        Salvador\n",
      "6     16    Paula     44    16       Fortaleza\n"
     ]
    }
   ],
   "source": [
    "import pandas as pd\n",
    "\n",
    "data = [\n",
    "    {\"Index\": 10, \"Name\": \"Pedro\", \"Idade\": 34, \"Nota\": 15, \"Cidade\": \"São Paulo\"},\n",
    "    {\"Index\": 11, \"Name\": \"Maria\", \"Idade\": 59, \"Nota\": 12, \"Cidade\": \"Rio de Janeiro\"},\n",
    "    {\"Index\": 12, \"Name\": \"Janaina\", \"Idade\": 68, \"Nota\": 18, \"Cidade\": \"Belo Horizonte\"},\n",
    "    {\"Index\": 13, \"Name\": \"Wong\", \"Idade\": 89, \"Nota\": 17, \"Cidade\": \"Curitiba\"},\n",
    "    {\"Index\": 14, \"Name\": \"Roberto\", \"Idade\": 98, \"Nota\": 19, \"Cidade\": \"Porto Alegre\"},\n",
    "    {\"Index\": 15, \"Name\": \"Marco\", \"Idade\": 61, \"Nota\": 14, \"Cidade\": \"Salvador\"},\n",
    "    {\"Index\": 16, \"Name\": \"Paula\", \"Idade\": 44, \"Nota\": 16, \"Cidade\": \"Fortaleza\"}\n",
    "]\n",
    "\n",
    "df = pd.DataFrame(data)\n",
    "print(df)"
   ]
  },
  {
   "cell_type": "markdown",
   "metadata": {},
   "source": [
    "### Writing to a CSV file\n",
    "\n",
    "You can write a DataFrame to a CSV file using the `to_csv` method. \n",
    "\n",
    "- using the `index` parameter, you can specify whether to write the index to the CSV file.\n",
    "- using the `header` parameter, you can specify whether to write the header to the CSV file.\n"
   ]
  },
  {
   "cell_type": "code",
   "execution_count": 3,
   "metadata": {},
   "outputs": [],
   "source": [
    "## int this case we remove the index, but will keep the header\n",
    "## we will however specify the separator as a tab\n",
    "\n",
    "df.to_csv('data.csv', index=False, sep='\\t')"
   ]
  },
  {
   "cell_type": "markdown",
   "metadata": {},
   "source": [
    "### Reading from a CSV file\n",
    "\n",
    "You can read a CSV file into a DataFrame using the `read_csv` function. \n",
    "\n",
    "- make sure the you are using the correct separator. The default is a comma `,`."
   ]
  },
  {
   "cell_type": "code",
   "execution_count": 4,
   "metadata": {},
   "outputs": [],
   "source": [
    "df = pd.read_csv('data.csv', sep='\\t')"
   ]
  },
  {
   "cell_type": "markdown",
   "metadata": {},
   "source": [
    "### Exercise 1\n",
    "\n",
    "- Write and read the DataFrame `df` using the `;` separator. Change the name of the file. \n",
    "\n",
    "- Extract the first 3 rows of the column `Cidade` from the DataFrame `df`."
   ]
  },
  {
   "cell_type": "code",
   "execution_count": 5,
   "metadata": {},
   "outputs": [],
   "source": [
    "# your code here"
   ]
  },
  {
   "cell_type": "markdown",
   "metadata": {},
   "source": [
    "### Accessing Data in a DataFrame\n",
    "\n",
    "You can access data in a DataFrame using the `iloc` and `loc` methods.\n",
    "\n",
    "- Use the `iloc` method to access data by integer location, e.g. `df.iloc[0, 0]`.\n",
    "- Use the `loc` method to access data by label, e.g. `df.loc[0, 'column_name']`.\n",
    "\n",
    "remember that you can use slices.\n",
    "\n",
    "### Exercise 2\n",
    "\n",
    "What is the Cidade of the first row in the DataFrame `df`?"
   ]
  },
  {
   "cell_type": "code",
   "execution_count": 6,
   "metadata": {},
   "outputs": [
    {
     "ename": "",
     "evalue": "",
     "output_type": "error",
     "traceback": [
      "\u001b[1;31mThe Kernel crashed while executing code in the current cell or a previous cell. \n",
      "\u001b[1;31mPlease review the code in the cell(s) to identify a possible cause of the failure. \n",
      "\u001b[1;31mClick <a href='https://aka.ms/vscodeJupyterKernelCrash'>here</a> for more info. \n",
      "\u001b[1;31mView Jupyter <a href='command:jupyter.viewOutput'>log</a> for further details."
     ]
    }
   ],
   "source": [
    "## your code here\n"
   ]
  },
  {
   "cell_type": "markdown",
   "metadata": {},
   "source": [
    "### Iterating over a DataFrame\n",
    "\n",
    "You can iterate over a DataFrame using the `iterrows` method.\n",
    "\n",
    "### Exercise 3\n",
    "\n",
    "Iterate over the DataFrame `df` and print the `Cidade` and `Estado` of each row.\n",
    "\n",
    "\n",
    "### Exercise 4 \n",
    "\n",
    "Given the following `Student` object, iterate over the DataFrame `df` and create a list of `Student` objects.\n",
    "\n",
    "```python\n",
    "\n",
    "class Student:\n",
    "    def __init__(self, cidade, estado):\n",
    "        self.cidade = cidade\n",
    "        self.estado = estado\n",
    "    \n",
    "    def __str__(self):\n",
    "        return f\"{self.cidade} - {self.estado}\"\n",
    "\n",
    "\n",
    "```"
   ]
  }
 ],
 "metadata": {
  "kernelspec": {
   "display_name": ".venv",
   "language": "python",
   "name": "python3"
  },
  "language_info": {
   "codemirror_mode": {
    "name": "ipython",
    "version": 3
   },
   "file_extension": ".py",
   "mimetype": "text/x-python",
   "name": "python",
   "nbconvert_exporter": "python",
   "pygments_lexer": "ipython3",
   "version": "3.10.11"
  }
 },
 "nbformat": 4,
 "nbformat_minor": 2
}
