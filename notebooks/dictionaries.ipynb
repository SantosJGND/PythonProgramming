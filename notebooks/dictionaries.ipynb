{
 "cells": [
  {
   "cell_type": "markdown",
   "metadata": {},
   "source": [
    "<div style=\"font-size:32px; font-weight:bold;\">Dictionaries</div>\n",
    "<br>\n",
    "\n",
    "\n",
    "Dictionaries are used to store data values in key:value pairs. A dictionary is a collection which is unordered, changeable and does not allow duplicates. Dictionaries are written with curly brackets, and have keys and values.\n",
    "\n",
    "### Creating a Dictionary\n",
    "\n",
    "```python\n",
    "thisdict = {\n",
    "    \"brand\": \"Ford\",\n",
    "    \"model\": \"Mustang\",\n",
    "    \"year\": 1964\n",
    "}\n",
    "print(thisdict)\n",
    "```\n",
    "\n",
    "### Dictionary Exercise\n",
    "\n",
    "Below is a list of sentences. Write a python program that counts the number of times each word appears in the list. The program should output a dictionary with the words as keys and the number of times the word appears as values.\n",
    "\n",
    "\n",
    "```python\n",
    "\n",
    "sentences = [\n",
    "    \"I am a student\",\n",
    "    \"I am a teacher\",\n",
    "    \"I am a programmer\"\n",
    "]\n",
    "\n",
    "# Output\n",
    "{\n",
    "    \"I\": 3,\n",
    "    \"am\": 3,\n",
    "    \"a\": 3,\n",
    "    \"student\": 1,\n",
    "    \"teacher\": 1,\n",
    "    \"programmer\": 1\n",
    "}\n",
    "```\n",
    "\n",
    "Write a function `count_words(sentences: List[str]) -> Dict[str, int]` to solve the problem.\n",
    "\n",
    "\n",
    "<div class=\"alert alert-success alertsuccess\" style=\"margin-top: 20px\">\n",
    "[Tip]: Use a <code>  for </code> loop to iterate through the list of sentences. Use the <code> split() </code> method to split the sentence into words. Use the <code> get() </code> method to get the value of a key in the dictionary. \n",
    "</div>\n",
    "\n",
    "\n"
   ]
  },
  {
   "cell_type": "code",
   "execution_count": 1,
   "metadata": {},
   "outputs": [],
   "source": [
    "# your code here\n"
   ]
  }
 ],
 "metadata": {
  "kernelspec": {
   "display_name": ".venv",
   "language": "python",
   "name": "python3"
  },
  "language_info": {
   "codemirror_mode": {
    "name": "ipython",
    "version": 3
   },
   "file_extension": ".py",
   "mimetype": "text/x-python",
   "name": "python",
   "nbconvert_exporter": "python",
   "pygments_lexer": "ipython3",
   "version": "3.10.11"
  }
 },
 "nbformat": 4,
 "nbformat_minor": 2
}
